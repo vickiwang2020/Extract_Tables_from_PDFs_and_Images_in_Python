{
  "nbformat": 4,
  "nbformat_minor": 0,
  "metadata": {
    "colab": {
      "provenance": []
    },
    "kernelspec": {
      "name": "python3",
      "display_name": "Python 3"
    },
    "language_info": {
      "name": "python"
    }
  },
  "cells": [
    {
      "cell_type": "code",
      "metadata": {
        "id": "N4ntrd_xGMoY"
      },
      "source": [
        "!pip install \"camelot-py[cv]\" -q"
      ],
      "execution_count": null,
      "outputs": []
    },
    {
      "cell_type": "code",
      "metadata": {
        "colab": {
          "base_uri": "https://localhost:8080/"
        },
        "id": "qCxyThFDMJI6",
        "outputId": "65740065-7e5e-4ffa-c4ef-a2b02947fafe"
      },
      "source": [
        "!apt-get install ghostscript"
      ],
      "execution_count": null,
      "outputs": [
        {
          "output_type": "stream",
          "text": [
            "Reading package lists... Done\n",
            "Building dependency tree       \n",
            "Reading state information... Done\n",
            "ghostscript is already the newest version (9.26~dfsg+0-0ubuntu0.18.04.14).\n",
            "0 upgraded, 0 newly installed, 0 to remove and 39 not upgraded.\n"
          ],
          "name": "stdout"
        }
      ]
    },
    {
      "cell_type": "code",
      "metadata": {
        "id": "EC-AUjWsGSLy"
      },
      "source": [
        "import camelot as cam"
      ],
      "execution_count": null,
      "outputs": []
    },
    {
      "cell_type": "code",
      "metadata": {
        "id": "eWF3m00SGgGB"
      },
      "source": [
        "#source: https://www.southalabama.edu/mathstat/personal_pages/mulekar/st550/Krishnakumar.pdf\n",
        "table = cam.read_pdf(\"Krishnakumar.pdf\", pages = '3', flavor = 'stream')"
      ],
      "execution_count": null,
      "outputs": []
    },
    {
      "cell_type": "code",
      "metadata": {
        "colab": {
          "base_uri": "https://localhost:8080/"
        },
        "id": "kP3Ddn9vJ449",
        "outputId": "51d1c5be-0e88-4de8-d150-f4d618fe6078"
      },
      "source": [
        "table"
      ],
      "execution_count": null,
      "outputs": [
        {
          "output_type": "execute_result",
          "data": {
            "text/plain": [
              "<TableList n=2>"
            ]
          },
          "metadata": {
            "tags": []
          },
          "execution_count": 52
        }
      ]
    },
    {
      "cell_type": "code",
      "metadata": {
        "id": "MSjLBqX7LWhX"
      },
      "source": [
        "table[0].df[[5,6]].to_excel(\"camelot_demo.xls\")"
      ],
      "execution_count": null,
      "outputs": []
    },
    {
      "cell_type": "code",
      "metadata": {
        "id": "PJ9_NFbXM83J"
      },
      "source": [],
      "execution_count": null,
      "outputs": []
    }
  ]
}